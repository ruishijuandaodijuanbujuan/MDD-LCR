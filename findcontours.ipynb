{
 "cells": [
  {
   "cell_type": "code",
   "execution_count": 46,
   "metadata": {
    "scrolled": true
   },
   "outputs": [
    {
     "name": "stdout",
     "output_type": "stream",
     "text": [
      "ad_0db/ad_0db.png\n",
      "0.007541179656982422\n",
      "881,666\n",
      "449,595\n",
      "726,592\n",
      "816,591\n"
     ]
    }
   ],
   "source": [
    "# %load test.py\n",
    "import time\n",
    "import os\n",
    "import cv2\n",
    "path2 = 'ad_30db_reconstruct'\n",
    "for filename in os.listdir(path):\n",
    "    img_path = path+'/'+filename\n",
    "    print(img_path)\n",
    "    img=cv2.imread(img_path)\n",
    "    img = cv2.cvtColor(img,cv2.COLOR_RGB2GRAY)#颜色转换函数\n",
    "   # print(img)\n",
    "\n",
    "    ret,thresh = cv2.threshold(img,110,255, cv2.THRESH_BINARY)#大于120的用255表示，小于120的用0表示\n",
    "# ret,thresh = cv2.threshold(img, 60,255, cv2.THRESH_BINARY_INV)\n",
    "#thresh = cv2.adaptiveThreshold(img,255, cv2.ADAPTIVE_THRESH_MEAN_C,  cv2.THRESH_BINARY,3, 5)#自适应阈值\n",
    "    start = time.time()\n",
    "    binary, contours, hierarchy = cv2.findContours(thresh, cv2.RETR_TREE, cv2.CHAIN_APPROX_NONE)\n",
    "    end = time.time()\n",
    "    print (end-start)\n",
    "    for i in range(0,len(contours)):\n",
    "        cnt = contours[i]\n",
    "        x, y, w, h = cv2.boundingRect(cnt)\n",
    "        #print(x,y,w,h)\n",
    "        print(\"%d,%d\"%((2*x+w)/2,(2*y+h)/2))\n",
    "        #print(\"%d,%d\"%(y,y+h))\n",
    "        cv2.rectangle(img, (x, y), (x+w, y+h), (255,255,255),-1)#图像，左上角坐标 右下角坐标，画线对应的RGB颜色，线的宽度\n",
    "        cv2.fillPoly(img,[contours[i]],(255,255,255))#填充图形\n",
    "    img=cv2.cvtColor(img,cv2.COLOR_GRAY2RGB)\n",
    "    out_name = filename.split('.')[0]\n",
    "    save_name = path2 + '/' + out_name +'.png'\n",
    "    cv2.imwrite(save_name,img)\n",
    "\n",
    "\n",
    "\n",
    "\n",
    "\n"
   ]
  },
  {
   "cell_type": "code",
   "execution_count": null,
   "metadata": {
    "collapsed": true
   },
   "outputs": [],
   "source": []
  },
  {
   "cell_type": "code",
   "execution_count": null,
   "metadata": {
    "collapsed": true
   },
   "outputs": [],
   "source": []
  },
  {
   "cell_type": "code",
   "execution_count": null,
   "metadata": {
    "collapsed": true
   },
   "outputs": [],
   "source": []
  }
 ],
 "metadata": {
  "kernelspec": {
   "display_name": "Python 3",
   "language": "python",
   "name": "python3"
  },
  "language_info": {
   "codemirror_mode": {
    "name": "ipython",
    "version": 3
   },
   "file_extension": ".py",
   "mimetype": "text/x-python",
   "name": "python",
   "nbconvert_exporter": "python",
   "pygments_lexer": "ipython3",
   "version": "3.6.9"
  }
 },
 "nbformat": 4,
 "nbformat_minor": 2
}
